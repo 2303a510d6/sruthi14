{
  "nbformat": 4,
  "nbformat_minor": 0,
  "metadata": {
    "colab": {
      "provenance": [],
      "authorship_tag": "ABX9TyPjrymdc4P5waxVP57js8lJ",
      "include_colab_link": true
    },
    "kernelspec": {
      "name": "python3",
      "display_name": "Python 3"
    },
    "language_info": {
      "name": "python"
    }
  },
  "cells": [
    {
      "cell_type": "markdown",
      "metadata": {
        "id": "view-in-github",
        "colab_type": "text"
      },
      "source": [
        "<a href=\"https://colab.research.google.com/github/2303a510d6/sruthi14/blob/main/Lab01.ipynb\" target=\"_parent\"><img src=\"https://colab.research.google.com/assets/colab-badge.svg\" alt=\"Open In Colab\"/></a>"
      ]
    },
    {
      "cell_type": "code",
      "execution_count": 1,
      "metadata": {
        "colab": {
          "base_uri": "https://localhost:8080/"
        },
        "id": "CPYZN6ETnlF8",
        "outputId": "3b7fa377-ea17-4587-869c-313960247efd"
      },
      "outputs": [
        {
          "output_type": "stream",
          "name": "stdout",
          "text": [
            "[1 2 3 4 5 6]\n"
          ]
        }
      ],
      "source": [
        "#Implementing Lists using Numpy\n",
        "import numpy as np\n",
        "lst = [1,2,3,4,5,6]\n",
        "arr = np.array(lst)\n",
        "print(arr)"
      ]
    },
    {
      "cell_type": "code",
      "source": [
        "\n",
        "#Implementing Arrays using Numpy\n",
        "import numpy as np\n",
        "arr = np.array([1,2,3,4,5])\n",
        "print(arr)"
      ],
      "metadata": {
        "colab": {
          "base_uri": "https://localhost:8080/"
        },
        "id": "q51itgKioZ4n",
        "outputId": "ba4c5972-c3a2-4f74-83a3-dd356edcc7a6"
      },
      "execution_count": 2,
      "outputs": [
        {
          "output_type": "stream",
          "name": "stdout",
          "text": [
            "[1 2 3 4 5]\n"
          ]
        }
      ]
    },
    {
      "cell_type": "code",
      "source": [
        "#Identifying type usinf \"type()\" method\n",
        "import numpy as np\n",
        "arr = np.array([1,2,3,4,5,6,7])\n",
        "print(type(arr))"
      ],
      "metadata": {
        "colab": {
          "base_uri": "https://localhost:8080/"
        },
        "id": "njeLrGNSos_Q",
        "outputId": "a9825afc-f81a-4307-f890-2e2bf8f93f2d"
      },
      "execution_count": 3,
      "outputs": [
        {
          "output_type": "stream",
          "name": "stdout",
          "text": [
            "<class 'numpy.ndarray'>\n"
          ]
        }
      ]
    },
    {
      "cell_type": "code",
      "source": [
        "#Performing mathematical operations\n",
        "#1.Multiplication\n",
        "import numpy as np\n",
        "a = np.array([1,2,3])\n",
        "b = np.array([4,5,6])\n",
        "mul = np.multiply(a, b)\n",
        "print(mul)\n",
        "#2.division\n",
        "div = np.divide(a, b)\n",
        "print(div)\n",
        "#3.Poweroff\n",
        "power = np.power(a, b)\n",
        "print(power)"
      ],
      "metadata": {
        "colab": {
          "base_uri": "https://localhost:8080/"
        },
        "id": "uulzWBuco4gg",
        "outputId": "00eb2b88-71a1-4724-ad92-c796a78c17df"
      },
      "execution_count": 4,
      "outputs": [
        {
          "output_type": "stream",
          "name": "stdout",
          "text": [
            "[ 4 10 18]\n",
            "[0.25 0.4  0.5 ]\n",
            "[  1  32 729]\n"
          ]
        }
      ]
    },
    {
      "cell_type": "code",
      "source": [
        "#Performing mathematical operations\n",
        "#1.Multiplication\n",
        "import numpy as np\n",
        "a = np.array([1,2,3])\n",
        "b = np.array([4,5,6])\n",
        "mul = np.multiply(a, b)\n",
        "print(mul)\n",
        "#2.division\n",
        "div = np.divide(a, b)\n",
        "print(div)\n",
        "#3.Poweroff\n",
        "power = np.power(a, b)\n",
        "print(power)"
      ],
      "metadata": {
        "colab": {
          "base_uri": "https://localhost:8080/"
        },
        "id": "xLCeFz6FpCdO",
        "outputId": "2c91f02f-f4a8-476d-87fb-c236e164dc3b"
      },
      "execution_count": 5,
      "outputs": [
        {
          "output_type": "stream",
          "name": "stdout",
          "text": [
            "[ 4 10 18]\n",
            "[0.25 0.4  0.5 ]\n",
            "[  1  32 729]\n"
          ]
        }
      ]
    },
    {
      "cell_type": "code",
      "source": [
        "#Performing mathematical operations\n",
        "#1.Multiplication\n",
        "import numpy as np\n",
        "a = np.array([1,2,3])\n",
        "b = np.array([4,5,6])\n",
        "mul = np.multiply(a, b)\n",
        "print(mul)\n",
        "#2.division\n",
        "div = np.divide(a, b)\n",
        "print(div)\n",
        "#3.Poweroff\n",
        "power = np.power(a, b)\n",
        "print(power)"
      ],
      "metadata": {
        "colab": {
          "base_uri": "https://localhost:8080/"
        },
        "id": "vkjJAMRGpRmP",
        "outputId": "ced52950-b99b-4c72-893c-86fa7a69cf19"
      },
      "execution_count": 6,
      "outputs": [
        {
          "output_type": "stream",
          "name": "stdout",
          "text": [
            "[ 4 10 18]\n",
            "[0.25 0.4  0.5 ]\n",
            "[  1  32 729]\n"
          ]
        }
      ]
    },
    {
      "cell_type": "code",
      "source": [
        "#Implement Lists using Pandas\n",
        "import pandas as pd\n",
        "lst = [1,2,3,4]\n",
        "arr = pd.Series(lst)\n",
        "print(arr)"
      ],
      "metadata": {
        "colab": {
          "base_uri": "https://localhost:8080/"
        },
        "id": "43tLe9_9pdls",
        "outputId": "84a261c5-8cb2-4b3c-b401-056b39568a28"
      },
      "execution_count": 7,
      "outputs": [
        {
          "output_type": "stream",
          "name": "stdout",
          "text": [
            "0    1\n",
            "1    2\n",
            "2    3\n",
            "3    4\n",
            "dtype: int64\n"
          ]
        }
      ]
    },
    {
      "cell_type": "code",
      "source": [
        "#Implement arrays using pandas\n",
        "import pandas as pd\n",
        "arr = [1,2,3,4,5]\n",
        "arrays = pd.array(arr)\n",
        "print(arrays)"
      ],
      "metadata": {
        "colab": {
          "base_uri": "https://localhost:8080/"
        },
        "id": "ARItej1MppEn",
        "outputId": "f119155f-d230-43a0-92bd-dae44f68efab"
      },
      "execution_count": 8,
      "outputs": [
        {
          "output_type": "stream",
          "name": "stdout",
          "text": [
            "<IntegerArray>\n",
            "[1, 2, 3, 4, 5]\n",
            "Length: 5, dtype: Int64\n"
          ]
        }
      ]
    },
    {
      "cell_type": "code",
      "source": [
        "#Identify thier type()\n",
        "import pandas as pd\n",
        "arr = [1,2,3,4,5]\n",
        "arr1 = [0.1, 2.3, 4.6]\n",
        "series = pd.Series(arr)#list in pandas does not have a datatype.\n",
        "series1 = pd.Series(arr1)#Hence must be converted to Series.\n",
        "data_type = series.dtype\n",
        "data_type1 = series1.dtype\n",
        "print(data_type)\n",
        "print(data_type1)"
      ],
      "metadata": {
        "colab": {
          "base_uri": "https://localhost:8080/"
        },
        "id": "1jSl9cyjpzQ7",
        "outputId": "4bbab563-760a-4bc3-be21-4f17aaad147a"
      },
      "execution_count": 9,
      "outputs": [
        {
          "output_type": "stream",
          "name": "stdout",
          "text": [
            "int64\n",
            "float64\n"
          ]
        }
      ]
    },
    {
      "cell_type": "code",
      "source": [
        "#Combining texts\n",
        "import pandas as pd\n",
        "text1 = pd.Series([\"Addition of Two: \"])\n",
        "text2 = pd.Series([\"array1 + array2\"])\n",
        "print(text1.str.cat(text2))"
      ],
      "metadata": {
        "colab": {
          "base_uri": "https://localhost:8080/"
        },
        "id": "q2P6RxaIqBSW",
        "outputId": "701af84c-db88-49d4-c613-32df48a3d3c5"
      },
      "execution_count": 10,
      "outputs": [
        {
          "output_type": "stream",
          "name": "stdout",
          "text": [
            "0    Addition of Two: array1 + array2\n",
            "dtype: object\n"
          ]
        }
      ]
    },
    {
      "cell_type": "code",
      "source": [
        "#implement sin(), log(), log2(), exp() using pandas\n",
        "import pandas as pd\n",
        "import numpy as np #pandas does not have trignometric functions inbuilt\n",
        "a = pd.Series([1,2,3])\n",
        "sin = np.sin(a)\n",
        "print(sin)\n",
        "log = np.log(a)\n",
        "print(log)\n",
        "log2 = np.log2(a)\n",
        "print(log2)\n",
        "exp = np.exp(a)\n",
        "print(exp)"
      ],
      "metadata": {
        "colab": {
          "base_uri": "https://localhost:8080/"
        },
        "id": "ZGUdQrfhqLCk",
        "outputId": "6a6979de-16de-4b22-dfad-a69fe5d0a278"
      },
      "execution_count": 11,
      "outputs": [
        {
          "output_type": "stream",
          "name": "stdout",
          "text": [
            "0    0.841471\n",
            "1    0.909297\n",
            "2    0.141120\n",
            "dtype: float64\n",
            "0    0.000000\n",
            "1    0.693147\n",
            "2    1.098612\n",
            "dtype: float64\n",
            "0    0.000000\n",
            "1    1.000000\n",
            "2    1.584963\n",
            "dtype: float64\n",
            "0     2.718282\n",
            "1     7.389056\n",
            "2    20.085537\n",
            "dtype: float64\n"
          ]
        }
      ]
    },
    {
      "cell_type": "code",
      "source": [
        "#1. Generate a Data set for Health Care\n",
        "import matplotlib.pyplot as plt\n",
        "people = [\"kiran\", \"arun\", \"vijay\", \"varun\"]\n",
        "age = [25, 30, 35, 40]\n",
        "height = [145, 151, 165, 173]\n",
        "weight = [45, 55, 65, 75]"
      ],
      "metadata": {
        "id": "VQOqXY_ZqVLx"
      },
      "execution_count": 12,
      "outputs": []
    }
  ]
}